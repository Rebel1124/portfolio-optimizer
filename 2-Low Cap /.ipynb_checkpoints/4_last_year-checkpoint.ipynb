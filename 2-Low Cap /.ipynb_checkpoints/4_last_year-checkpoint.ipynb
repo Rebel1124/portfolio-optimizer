{
 "cells": [
  {
   "cell_type": "code",
   "execution_count": 1,
   "id": "b3c06c04-5498-40d0-8a82-282e06e6c1a5",
   "metadata": {},
   "outputs": [],
   "source": [
    "# Import libraries\n",
    "\n",
    "import numpy as np\n",
    "import pandas as pd\n",
    "from pandas_datareader import data\n",
    "import plotly.express as px\n",
    "import datetime\n",
    "import plotly.graph_objects as go\n",
    "import plotly.io as pio\n",
    "from datetime import timedelta\n",
    "from MCForecastTools import MCSimulation\n",
    "from IPython.display import display"
   ]
  },
  {
   "cell_type": "code",
   "execution_count": 2,
   "id": "9323a651-1888-413e-8e91-72b2f31b0bbd",
   "metadata": {},
   "outputs": [],
   "source": [
    "# Import Variables\n",
    "%store -r stocks\n",
    "%store -r benchmark\n",
    "%store -r start_date\n",
    "%store -r end_date\n",
    "%store -r out_sample_days_held_back\n",
    "%store -r theme\n",
    "%store -r number_opt_porfolios\n",
    "%store -r rf\n",
    "%store -r number_simulation\n",
    "%store -r years\n",
    "%store -r init_investment\n",
    "seed=42\n",
    "np.random.seed(seed)\n",
    "%store -r last_year_stock_returns\n",
    "%store -r weights_excl_ly"
   ]
  },
  {
   "cell_type": "code",
   "execution_count": 3,
   "id": "90103861-9e4e-4582-9f23-fb07cb5aac10",
   "metadata": {},
   "outputs": [
    {
     "data": {
      "text/plain": [
       "Date\n",
       "2021-10-04   -0.009349\n",
       "2021-10-05    0.005238\n",
       "2021-10-06   -0.004183\n",
       "2021-10-07   -0.001300\n",
       "2021-10-08   -0.001366\n",
       "dtype: float64"
      ]
     },
     "execution_count": 3,
     "metadata": {},
     "output_type": "execute_result"
    }
   ],
   "source": [
    "#Calculate portfolio returns for last year using updated weights\n",
    "\n",
    "last_year_portfolio_returns = last_year_stock_returns.dot(weights_excl_ly)\n",
    "\n",
    "# Display sample data\n",
    "last_year_portfolio_returns.head()"
   ]
  },
  {
   "cell_type": "code",
   "execution_count": 4,
   "id": "0f7465b0-22e7-46f6-b0b6-4322b4ba4296",
   "metadata": {},
   "outputs": [
    {
     "name": "stdout",
     "output_type": "stream",
     "text": [
      "Stored 'one_year_port_returns' (DataFrame)\n"
     ]
    }
   ],
   "source": [
    "# Convert calulated portfolio returns for last year into a dataframe\n",
    "\n",
    "one_year_port_returns = pd.DataFrame(last_year_portfolio_returns)\n",
    "one_year_port_returns.columns = ['Portfolio_returns']\n",
    "%store one_year_port_returns"
   ]
  },
  {
   "cell_type": "code",
   "execution_count": 5,
   "id": "78fe0cf6-429f-41b9-a0bd-f6d1e590273b",
   "metadata": {},
   "outputs": [
    {
     "name": "stdout",
     "output_type": "stream",
     "text": [
      "Stored 'one_year_cumulative_returns' (DataFrame)\n"
     ]
    }
   ],
   "source": [
    "# Calculate the cumulative returns for the optimal portfolio for the last year\n",
    "\n",
    "one_year_cumulative_returns = (1 + one_year_port_returns).cumprod()\n",
    "\n",
    "init_date = one_year_cumulative_returns.index[0] - timedelta(days=1)\n",
    "one_year_cumulative_returns.loc[init_date] = 1\n",
    "one_year_cumulative_returns = one_year_cumulative_returns.sort_index()\n",
    "%store one_year_cumulative_returns"
   ]
  },
  {
   "cell_type": "code",
   "execution_count": 6,
   "id": "22529596-df16-4980-bce2-e0e86cdff1f5",
   "metadata": {},
   "outputs": [
    {
     "data": {
      "text/html": [
       "<div>\n",
       "<style scoped>\n",
       "    .dataframe tbody tr th:only-of-type {\n",
       "        vertical-align: middle;\n",
       "    }\n",
       "\n",
       "    .dataframe tbody tr th {\n",
       "        vertical-align: top;\n",
       "    }\n",
       "\n",
       "    .dataframe thead th {\n",
       "        text-align: right;\n",
       "    }\n",
       "</style>\n",
       "<table border=\"1\" class=\"dataframe\">\n",
       "  <thead>\n",
       "    <tr style=\"text-align: right;\">\n",
       "      <th></th>\n",
       "      <th>Portfolio_returns</th>\n",
       "    </tr>\n",
       "    <tr>\n",
       "      <th>Date</th>\n",
       "      <th></th>\n",
       "    </tr>\n",
       "  </thead>\n",
       "  <tbody>\n",
       "    <tr>\n",
       "      <th>2021-10-03</th>\n",
       "      <td>1.000000</td>\n",
       "    </tr>\n",
       "    <tr>\n",
       "      <th>2021-10-04</th>\n",
       "      <td>0.990651</td>\n",
       "    </tr>\n",
       "    <tr>\n",
       "      <th>2021-10-05</th>\n",
       "      <td>0.995840</td>\n",
       "    </tr>\n",
       "    <tr>\n",
       "      <th>2021-10-06</th>\n",
       "      <td>0.991674</td>\n",
       "    </tr>\n",
       "    <tr>\n",
       "      <th>2021-10-07</th>\n",
       "      <td>0.990385</td>\n",
       "    </tr>\n",
       "    <tr>\n",
       "      <th>...</th>\n",
       "      <td>...</td>\n",
       "    </tr>\n",
       "    <tr>\n",
       "      <th>2022-09-26</th>\n",
       "      <td>0.994383</td>\n",
       "    </tr>\n",
       "    <tr>\n",
       "      <th>2022-09-27</th>\n",
       "      <td>0.991353</td>\n",
       "    </tr>\n",
       "    <tr>\n",
       "      <th>2022-09-28</th>\n",
       "      <td>1.010752</td>\n",
       "    </tr>\n",
       "    <tr>\n",
       "      <th>2022-09-29</th>\n",
       "      <td>1.001127</td>\n",
       "    </tr>\n",
       "    <tr>\n",
       "      <th>2022-09-30</th>\n",
       "      <td>0.987944</td>\n",
       "    </tr>\n",
       "  </tbody>\n",
       "</table>\n",
       "<p>252 rows × 1 columns</p>\n",
       "</div>"
      ],
      "text/plain": [
       "            Portfolio_returns\n",
       "Date                         \n",
       "2021-10-03           1.000000\n",
       "2021-10-04           0.990651\n",
       "2021-10-05           0.995840\n",
       "2021-10-06           0.991674\n",
       "2021-10-07           0.990385\n",
       "...                       ...\n",
       "2022-09-26           0.994383\n",
       "2022-09-27           0.991353\n",
       "2022-09-28           1.010752\n",
       "2022-09-29           1.001127\n",
       "2022-09-30           0.987944\n",
       "\n",
       "[252 rows x 1 columns]"
      ]
     },
     "execution_count": 6,
     "metadata": {},
     "output_type": "execute_result"
    }
   ],
   "source": [
    "one_year_cumulative_returns"
   ]
  },
  {
   "cell_type": "code",
   "execution_count": null,
   "id": "f1cc77a9-de0c-421f-8ab8-77b19d0c65a3",
   "metadata": {},
   "outputs": [],
   "source": []
  }
 ],
 "metadata": {
  "kernelspec": {
   "display_name": "dev",
   "language": "python",
   "name": "dev"
  },
  "language_info": {
   "codemirror_mode": {
    "name": "ipython",
    "version": 3
   },
   "file_extension": ".py",
   "mimetype": "text/x-python",
   "name": "python",
   "nbconvert_exporter": "python",
   "pygments_lexer": "ipython3",
   "version": "3.7.13"
  }
 },
 "nbformat": 4,
 "nbformat_minor": 5
}
