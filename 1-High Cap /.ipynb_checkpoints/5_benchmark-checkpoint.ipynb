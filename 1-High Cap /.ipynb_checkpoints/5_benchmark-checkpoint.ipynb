{
 "cells": [
  {
   "cell_type": "code",
   "execution_count": 1,
   "id": "a130148a-f3cd-496e-aa53-66c261241db5",
   "metadata": {},
   "outputs": [],
   "source": [
    "# Import libraries\n",
    "\n",
    "import numpy as np\n",
    "import pandas as pd\n",
    "from pandas_datareader import data\n",
    "import plotly.express as px\n",
    "import datetime\n",
    "import plotly.graph_objects as go\n",
    "import plotly.io as pio\n",
    "from datetime import timedelta\n",
    "from MCForecastTools import MCSimulation\n",
    "from IPython.display import display"
   ]
  },
  {
   "cell_type": "code",
   "execution_count": 2,
   "id": "e0a6bd6a-0674-42db-9e59-48d5b6155b34",
   "metadata": {},
   "outputs": [],
   "source": [
    "# Import variables \n",
    "\n",
    "%store -r stocks\n",
    "%store -r benchmark\n",
    "%store -r start_date\n",
    "%store -r end_date\n",
    "%store -r out_sample_days_held_back\n",
    "%store -r theme\n",
    "%store -r number_opt_porfolios\n",
    "%store -r rf\n",
    "%store -r number_simulation\n",
    "%store -r years\n",
    "%store -r init_investment\n",
    "seed=42\n",
    "np.random.seed(seed)\n",
    "%store -r bm\n",
    "%store -r benchmark_returns\n",
    "%store -r benchmark_returns_excl_ly\n",
    "%store -r last_year_benchmark_returns\n",
    "%store -r stock_returns_excl_ly"
   ]
  },
  {
   "cell_type": "markdown",
   "id": "e0e08a14-c6c1-439b-9a94-ee579b07da54",
   "metadata": {},
   "source": [
    "## Complete Data 2008-2022"
   ]
  },
  {
   "cell_type": "markdown",
   "id": "b12b297a-6210-42de-b27c-90cc02993882",
   "metadata": {},
   "source": [
    "### Calculations"
   ]
  },
  {
   "cell_type": "code",
   "execution_count": 3,
   "id": "d3c99ecc-1848-4f8a-9f6b-938939d72284",
   "metadata": {},
   "outputs": [
    {
     "name": "stdout",
     "output_type": "stream",
     "text": [
      "Stored 'bm_annual_returns' (Series)\n"
     ]
    }
   ],
   "source": [
    "# Annual Returns\n",
    "dt = pd.to_datetime(start_date, format='%Y/%m/%d')\n",
    "dt1 = pd.to_datetime(end_date, format='%Y/%m/%d')\n",
    "\n",
    "yrs_full = ((dt1-dt).days)/365\n",
    "\n",
    "bm_annual_returns = bm.pct_change().apply(lambda x: (1+x)).cumprod().iloc[-1]**(1/yrs_full) - 1\n",
    "%store bm_annual_returns"
   ]
  },
  {
   "cell_type": "code",
   "execution_count": 4,
   "id": "875a20c8-aa50-4d5b-b1fa-122cb4f68666",
   "metadata": {},
   "outputs": [
    {
     "name": "stdout",
     "output_type": "stream",
     "text": [
      "Stored 'bm_annual_std_dev' (Series)\n"
     ]
    }
   ],
   "source": [
    "# Annual Standard Deviation\n",
    "# Volatility is given by the annual standard deviation. We multiply by 252 because there are 252 trading days/year. Also\n",
    "# We will use the log of the stock returns in our calculation as it produces mrginally more accurate results.\n",
    "\n",
    "bm_annual_std_dev = bm.pct_change().apply(lambda x: np.log(1+x)).std().apply(lambda x: x*np.sqrt(252))\n",
    "%store bm_annual_std_dev"
   ]
  },
  {
   "cell_type": "code",
   "execution_count": 5,
   "id": "f5f48095-7878-4a57-8eab-823665613b1c",
   "metadata": {},
   "outputs": [
    {
     "name": "stdout",
     "output_type": "stream",
     "text": [
      "Stored 'bm_sharpe' (Series)\n"
     ]
    }
   ],
   "source": [
    "# Sharpe\n",
    "bm_sharpe = (bm_annual_returns-rf)/bm_annual_std_dev\n",
    "%store bm_sharpe"
   ]
  },
  {
   "cell_type": "code",
   "execution_count": 6,
   "id": "15470f60-cdbf-47ef-bb56-1cdaed2290df",
   "metadata": {},
   "outputs": [],
   "source": [
    "# Cumulative Returns\n",
    "cumulative_benchmark_returns = (1 + benchmark_returns).cumprod()\n",
    "\n",
    "init_date = cumulative_benchmark_returns.index[0] - timedelta(days=1)\n",
    "cumulative_benchmark_returns.loc[init_date] = 1\n",
    "cumulative_benchmark_returns = cumulative_benchmark_returns.sort_index()"
   ]
  },
  {
   "cell_type": "markdown",
   "id": "2116b5cb-87e8-4552-bcb9-afce562090ad",
   "metadata": {},
   "source": [
    "## Sample/Sliced Dataframe 2008-2021"
   ]
  },
  {
   "cell_type": "markdown",
   "id": "cd9308dc-5bca-4d15-a103-4b095eae06a9",
   "metadata": {},
   "source": [
    "### Calculations"
   ]
  },
  {
   "cell_type": "code",
   "execution_count": 7,
   "id": "b3312da7-b829-4043-9396-871c4a678a02",
   "metadata": {},
   "outputs": [
    {
     "name": "stdout",
     "output_type": "stream",
     "text": [
      "Stored 'bm_annual_returns_sample' (Series)\n"
     ]
    }
   ],
   "source": [
    "## Annual Returns\n",
    "dt = pd.to_datetime(start_date, format='%Y/%m/%d')\n",
    "dt2 = pd.to_datetime(stock_returns_excl_ly.index[-1], format='%Y-%m-%d')\n",
    "\n",
    "yrs = ((dt2-dt).days)/365\n",
    "\n",
    "bm_annual_returns_sample = benchmark_returns_excl_ly.apply(lambda x: (1+x)).cumprod().iloc[-1]**(1/yrs) - 1\n",
    "%store bm_annual_returns_sample"
   ]
  },
  {
   "cell_type": "code",
   "execution_count": 8,
   "id": "e1eca528-38d7-485c-abf3-e4a84cdc5f81",
   "metadata": {},
   "outputs": [
    {
     "name": "stdout",
     "output_type": "stream",
     "text": [
      "Stored 'bm_annual_std_dev_sample' (Series)\n"
     ]
    }
   ],
   "source": [
    "## Annual Standard Deviation\n",
    "bm_annual_std_dev_sample = benchmark_returns_excl_ly.apply(lambda x: np.log(1+x)).std().apply(lambda x: x*np.sqrt(252))\n",
    "%store bm_annual_std_dev_sample"
   ]
  },
  {
   "cell_type": "code",
   "execution_count": 9,
   "id": "81be78cd-2078-4cf8-aca0-7377b147d09e",
   "metadata": {},
   "outputs": [
    {
     "name": "stdout",
     "output_type": "stream",
     "text": [
      "Stored 'bm_sharpe_sample' (Series)\n"
     ]
    }
   ],
   "source": [
    "## Annual Sharpe\n",
    "bm_sharpe_sample = (bm_annual_returns-rf)/bm_annual_std_dev\n",
    "%store bm_sharpe_sample"
   ]
  },
  {
   "cell_type": "markdown",
   "id": "029ea7a8-ef83-4c8e-995d-f746c5dc40ac",
   "metadata": {},
   "source": [
    "## Out of Sample/Last Year Dataframe 2022"
   ]
  },
  {
   "cell_type": "code",
   "execution_count": 10,
   "id": "9eba76ed-95b0-4e40-80d6-2e7d586e6908",
   "metadata": {},
   "outputs": [
    {
     "name": "stdout",
     "output_type": "stream",
     "text": [
      "Stored 'one_year_benchmark_returns' (DataFrame)\n"
     ]
    }
   ],
   "source": [
    "# Calculate the cumulative returns for the benchmark for the last year\n",
    "\n",
    "one_year_benchmark_returns = (1 + last_year_benchmark_returns).cumprod()\n",
    "\n",
    "init_date = one_year_benchmark_returns.index[0] - timedelta(days=1)\n",
    "one_year_benchmark_returns.loc[init_date] = 1\n",
    "one_year_benchmark_returns = one_year_benchmark_returns.sort_index()\n",
    "%store one_year_benchmark_returns"
   ]
  },
  {
   "cell_type": "code",
   "execution_count": null,
   "id": "8cc5c615-0f28-4ce3-940a-5be61066802d",
   "metadata": {},
   "outputs": [],
   "source": []
  }
 ],
 "metadata": {
  "kernelspec": {
   "display_name": "dev",
   "language": "python",
   "name": "dev"
  },
  "language_info": {
   "codemirror_mode": {
    "name": "ipython",
    "version": 3
   },
   "file_extension": ".py",
   "mimetype": "text/x-python",
   "name": "python",
   "nbconvert_exporter": "python",
   "pygments_lexer": "ipython3",
   "version": "3.7.13"
  }
 },
 "nbformat": 4,
 "nbformat_minor": 5
}
