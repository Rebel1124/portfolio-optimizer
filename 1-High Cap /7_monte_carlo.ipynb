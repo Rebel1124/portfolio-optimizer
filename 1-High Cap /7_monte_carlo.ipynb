{
 "cells": [
  {
   "cell_type": "code",
   "execution_count": 1,
   "id": "ad90c3ef-4524-4890-ab8a-09b7721fcdfb",
   "metadata": {},
   "outputs": [],
   "source": [
    "# Import libraries\n",
    "\n",
    "import numpy as np\n",
    "import pandas as pd\n",
    "from pandas_datareader import data\n",
    "import plotly.express as px\n",
    "import datetime\n",
    "import plotly.graph_objects as go\n",
    "import plotly.io as pio\n",
    "from datetime import timedelta\n",
    "from MCForecastTools import MCSimulation\n",
    "from IPython.display import display"
   ]
  },
  {
   "cell_type": "code",
   "execution_count": 2,
   "id": "abf0bfea-9c29-4e23-bb0e-0fd48d690f7b",
   "metadata": {},
   "outputs": [],
   "source": [
    "# Import variables \n",
    "\n",
    "%store -r stocks\n",
    "%store -r benchmark\n",
    "%store -r start_date\n",
    "%store -r end_date\n",
    "%store -r out_sample_days_held_back\n",
    "%store -r theme\n",
    "%store -r number_opt_porfolios\n",
    "%store -r rf\n",
    "%store -r number_simulation\n",
    "%store -r years\n",
    "%store -r init_investment\n",
    "seed=42\n",
    "np.random.seed(seed)\n",
    "%store -r df\n",
    "%store -r bm\n",
    "%store -r stock_returns\n",
    "%store -r weights_full"
   ]
  },
  {
   "cell_type": "markdown",
   "id": "d702ffde-a1a1-4a9e-b679-d85b648468c2",
   "metadata": {},
   "source": [
    "## Complete Data Monte Carlo Simulation"
   ]
  },
  {
   "cell_type": "code",
   "execution_count": 3,
   "id": "cdcd9f41-7b67-474f-8c83-0147520f8aec",
   "metadata": {},
   "outputs": [],
   "source": [
    "# Adjust stock dataframe for Monte Carlo Simulation \n",
    "df_mc = df.copy()\n",
    "\n",
    "tickers = df_mc.columns.get_level_values(0).unique()\n",
    "\n",
    "# Adjust dataframe to use in Monte Carlo Simulation\n",
    "columns=[]\n",
    "for ticker in tickers:\n",
    "    tup = (ticker, 'close')\n",
    "    columns.append(tup)\n",
    "    \n",
    "df_mc.columns=pd.MultiIndex.from_tuples(columns)"
   ]
  },
  {
   "cell_type": "code",
   "execution_count": 4,
   "id": "77f6abca-095a-4c12-acc6-52d25975223b",
   "metadata": {},
   "outputs": [
    {
     "name": "stderr",
     "output_type": "stream",
     "text": [
      "/Users/janeydong/Desktop/portfolio-optimizer-janey/High Cap /MCForecastTools.py:53: FutureWarning: elementwise comparison failed; returning scalar instead, but in the future will perform elementwise comparison\n",
      "  if weights == \"\":\n"
     ]
    }
   ],
   "source": [
    "# Configuring a Monte Carlo simulation to forecast Optimal Portfolio cumulative returns\n",
    "\n",
    "MC_sim = MCSimulation(\n",
    "    portfolio_data = df_mc,\n",
    "    weights = weights_full,\n",
    "    num_simulation = number_simulation,\n",
    "    num_trading_days = 252*years\n",
    ")"
   ]
  },
  {
   "cell_type": "code",
   "execution_count": 5,
   "id": "c7f7fdf5-93d6-45da-b9e3-80d46ec44aa7",
   "metadata": {},
   "outputs": [],
   "source": [
    "# Check Monte Carlo portfolio data head\n",
    "  ## MC_sim.portfolio_data.head()"
   ]
  },
  {
   "cell_type": "code",
   "execution_count": 6,
   "id": "6993ca90-9eb8-4608-a07a-3f4fff3e11db",
   "metadata": {},
   "outputs": [],
   "source": [
    "# Check Monte Carlo imulation cumulative returns dataframe\n",
    "  ## MC_sim.calc_cumulative_return()"
   ]
  },
  {
   "cell_type": "code",
   "execution_count": 7,
   "id": "1e4346bf-368e-4d4b-a925-c560353e107d",
   "metadata": {},
   "outputs": [],
   "source": [
    "# Plot simulation outcomes\n",
    "  ## line_plot = MC_sim.plot_simulation()\n",
    "\n",
    "# Save the plot for future usage\n",
    "  ## line_plot.get_figure().savefig(\"MC_30year_sim_plot.png\", bbox_inches=\"tight\")"
   ]
  },
  {
   "cell_type": "code",
   "execution_count": 8,
   "id": "a00e9d93-b930-471e-a867-95453f675faf",
   "metadata": {},
   "outputs": [],
   "source": [
    "# Plot probability distribution and confidence intervals\n",
    "  ## dist_plot = MC_sim.plot_distribution()"
   ]
  },
  {
   "cell_type": "code",
   "execution_count": 9,
   "id": "4d2c271d-8f24-4886-ad30-9fd01e9f6c66",
   "metadata": {},
   "outputs": [
    {
     "name": "stderr",
     "output_type": "stream",
     "text": [
      "/Users/janeydong/Desktop/portfolio-optimizer-janey/High Cap /MCForecastTools.py:117: PerformanceWarning: DataFrame is highly fragmented.  This is usually the result of calling `frame.insert` many times, which has poor performance.  Consider joining all columns at once using pd.concat(axis=1) instead.  To get a de-fragmented frame, use `newframe = frame.copy()`\n",
      "  portfolio_cumulative_returns[n] = (1 + sim_df.fillna(0)).cumprod()\n"
     ]
    }
   ],
   "source": [
    "# Fetch summary statistics from the Monte Carlo simulation results\n",
    "statistics = MC_sim.summarize_cumulative_return()\n",
    "\n",
    "# Print summary statistics\n",
    "  ## print(statistics)"
   ]
  },
  {
   "cell_type": "code",
   "execution_count": 10,
   "id": "796d06eb-1aaf-415f-94b7-67fe054fc73b",
   "metadata": {},
   "outputs": [
    {
     "name": "stdout",
     "output_type": "stream",
     "text": [
      "There is a 95% chance that an initial investment of $10,000.00 in the portfolio over the next 5 years will end within in the range of $12,203.53 and $65,183.23\n"
     ]
    }
   ],
   "source": [
    "# Set initial investment\n",
    "initial_investment = init_investment\n",
    "\n",
    "# Use the lower and upper `95%` confidence intervals to calculate the range of the possible outcomes of our initial investment\n",
    "ci_lower = round(statistics[8]*initial_investment,2)\n",
    "ci_upper = round(statistics[9]*initial_investment,2)\n",
    "\n",
    "# Print results\n",
    "print(\"There is a 95% chance that an initial investment of ${:0,.2f} in the portfolio\"\n",
    "      \" over the next 5 years will end within in the range of\"\n",
    "      \" ${:0,.2f} and ${:0,.2f}\".format(initial_investment, ci_lower, ci_upper))"
   ]
  },
  {
   "cell_type": "markdown",
   "id": "a10a62c7-e6b6-422d-924c-df2a2d288431",
   "metadata": {},
   "source": [
    "## Benchmark Monte Carlo Simulation"
   ]
  },
  {
   "cell_type": "code",
   "execution_count": 11,
   "id": "7e95c63c-d141-4277-9568-45884544f8f6",
   "metadata": {},
   "outputs": [],
   "source": [
    "# Adjust stock dataframe for Monte Carlo Simulation \n",
    "bm_mc = bm.copy()\n",
    "\n",
    "tickers = bm_mc.columns.get_level_values(0).unique()\n",
    "\n",
    "# Adjust dataframe to use in Monte Carlo Simulation\n",
    "columns=[]\n",
    "for ticker in tickers:\n",
    "    tup = (ticker, 'close')\n",
    "    columns.append(tup)\n",
    "    \n",
    "bm_mc.columns=pd.MultiIndex.from_tuples(columns)"
   ]
  },
  {
   "cell_type": "code",
   "execution_count": 12,
   "id": "c0d13f79-92aa-4849-ae5b-2cda12fcb552",
   "metadata": {},
   "outputs": [],
   "source": [
    "# Configuring a Monte Carlo simulation to forecast Benchmark cumulative returns\n",
    "BM_sim = MCSimulation(\n",
    "    portfolio_data = bm_mc,\n",
    "    weights = [1],\n",
    "    num_simulation = number_simulation,\n",
    "    num_trading_days = 252*years\n",
    ")"
   ]
  },
  {
   "cell_type": "code",
   "execution_count": 13,
   "id": "4fa2b722-6bc2-4dcc-b983-b7829cdf8965",
   "metadata": {},
   "outputs": [],
   "source": [
    "# Check Monte Carlo portfolio data head\n",
    "  ## BM_sim.portfolio_data.head()"
   ]
  },
  {
   "cell_type": "code",
   "execution_count": 14,
   "id": "8ef68cc9-e5eb-41a3-8f38-0ee962713c62",
   "metadata": {},
   "outputs": [],
   "source": [
    "# Check Monte Carlo imulation cumulative returns dataframe\n",
    "  ## BM_sim.calc_cumulative_return()"
   ]
  },
  {
   "cell_type": "code",
   "execution_count": 15,
   "id": "3f8becb8-71b3-4ce7-a8c2-ad2fe513745c",
   "metadata": {},
   "outputs": [],
   "source": [
    "# Plot simulation outcomes\n",
    "  ## line_plot = BM_sim.plot_simulation()\n",
    "\n",
    "# Save the plot for future usage\n",
    "  ## line_plot.get_figure().savefig(\"MC_30year_sim_plot.png\", bbox_inches=\"tight\")"
   ]
  },
  {
   "cell_type": "code",
   "execution_count": 16,
   "id": "6fdaea0d-ee80-4f55-a25a-72ccc96faaa6",
   "metadata": {},
   "outputs": [],
   "source": [
    "# Plot probability distribution and confidence intervals\n",
    "  ## dist_plot = BM_sim.plot_distribution()"
   ]
  },
  {
   "cell_type": "code",
   "execution_count": 17,
   "id": "1a49000a-b1d4-453d-838b-8c400c025c0a",
   "metadata": {},
   "outputs": [],
   "source": [
    "# Fetch summary statistics from the Monte Carlo simulation results\n",
    "statistics = BM_sim.summarize_cumulative_return()\n",
    "\n",
    "# Print summary statistics\n",
    "  ## print(statistics)"
   ]
  },
  {
   "cell_type": "code",
   "execution_count": 18,
   "id": "05b495c0-7359-4917-8224-5bf7a9001c4e",
   "metadata": {},
   "outputs": [
    {
     "name": "stdout",
     "output_type": "stream",
     "text": [
      "There is a 95% chance that an initial investment of $10,000.00 in the portfolio over the next 5 years will end within in the range of $5,252.82 and $32,031.06\n"
     ]
    }
   ],
   "source": [
    "# Set initial investment\n",
    "initial_investment = init_investment\n",
    "\n",
    "# Use the lower and upper `95%` confidence intervals to calculate the range of the possible outcomes of our initial investment\n",
    "ci_lower = round(statistics[8]*initial_investment,2)\n",
    "ci_upper = round(statistics[9]*initial_investment,2)\n",
    "\n",
    "# Print results\n",
    "print(\"There is a 95% chance that an initial investment of ${:0,.2f} in the portfolio\"\n",
    "      \" over the next 5 years will end within in the range of\"\n",
    "      \" ${:0,.2f} and ${:0,.2f}\".format(initial_investment, ci_lower, ci_upper))"
   ]
  },
  {
   "cell_type": "code",
   "execution_count": null,
   "id": "b548aa28-1e19-4e75-8e05-1ba6e5f006b2",
   "metadata": {},
   "outputs": [],
   "source": []
  },
  {
   "cell_type": "code",
   "execution_count": null,
   "id": "8c4d195a-2af7-47d6-8278-9b232ddec08c",
   "metadata": {},
   "outputs": [],
   "source": []
  }
 ],
 "metadata": {
  "kernelspec": {
   "display_name": "dev",
   "language": "python",
   "name": "dev"
  },
  "language_info": {
   "codemirror_mode": {
    "name": "ipython",
    "version": 3
   },
   "file_extension": ".py",
   "mimetype": "text/x-python",
   "name": "python",
   "nbconvert_exporter": "python",
   "pygments_lexer": "ipython3",
   "version": "3.7.13"
  }
 },
 "nbformat": 4,
 "nbformat_minor": 5
}
